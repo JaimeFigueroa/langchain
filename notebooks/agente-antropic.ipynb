{
 "cells": [
  {
   "cell_type": "markdown",
   "metadata": {},
   "source": [
    "# Agente utilizando LangChain y Antropic\n",
    "\n",
    "Este notebook asume que estás trabajando con Python 3.12.4 en [VsCode](https://code.visualstudio.com/).\n",
    "\n",
    "<br />\n",
    "\n",
    "Requisitos:  \n",
    "- Para la ejecución de este nbotebook se requere acceso a las siguientes APIs:\n",
    "    - [LangChain](https://smith.langchain.com/settings)\n",
    "    - [Antropic](https://console.anthropic.com/)\n",
    "    - [Tavily](https://tavily.com/)\n",
    "- Reemplaza los valores de `ANTHROPIC_API_KEY` y `TAVILY_API_KEY` en el archivo `.env` de este proyecto.  \n",
    "\n",
    "    > NOTA: Esta es informacón sensible, asegurate de no versionarla en el repositorio.\n",
    "- Instala las dependencias usando `pip install -r requirements.txt`\n",
    "\n",
    "<br />\n",
    "\n",
    "## Carga variables de ambiente desde el archivo .env"
   ]
  },
  {
   "cell_type": "code",
   "execution_count": 1,
   "metadata": {},
   "outputs": [],
   "source": [
    "from dotenv import load_dotenv\n",
    "import os\n",
    "\n",
    "\n",
    "load_dotenv() \n",
    "\n",
    "assert os.environ['LANGCHAIN_API_KEY'] != 'API_KEY', 'Remplaza el valor de la variable LANGCHAIN_API_KEY en el archivo .env'\n",
    "assert os.environ['ANTHROPIC_API_KEY'] != 'API_KEY', 'Remplaza el valor de la variable ANTHROPIC_API_KEY en el archivo .env'\n",
    "assert os.environ['TAVILY_API_KEY'] != 'API_KEY', 'Remplaza el valor de la variable TAVILY_API_KEY en el archivo .env'"
   ]
  },
  {
   "cell_type": "markdown",
   "metadata": {},
   "source": [
    "## Definir herramientas\n",
    "\n",
    "Las herramientas son las que permiten a los agentes interactuar con otros servicios. Para este este ejemplo utilzaremos [Tavily](https://tavily.com/), un motor de busqueda optimizado para modelos de lenguaje."
   ]
  },
  {
   "cell_type": "code",
   "execution_count": 2,
   "metadata": {},
   "outputs": [
    {
     "name": "stdout",
     "output_type": "stream",
     "text": [
      "[{'url': 'https://www.meteored.mx/clima_Monterrey-America+Norte-Mexico-Nuevo+Leon-MMMY-1-21045.html', 'content': 'Clima en Monterrey con el estado del tiempo a 14 días. Los datos sobre el Tiempo, temperatura, velocidad del viento, la humedad, la cota de nieve, presión, etc . ... Se esperan lluvias y tormentas eléctricas en varios estados de México. Hace 7 horas El tiempo en Mexicali, Tijuana y Baja California, 14 de septiembre: rachas de hasta 50 km/h ...'}, {'url': 'https://weather.com/es-MX/tiempo/10dias/l/Monterrey+Nuevo+León?canonicalCityId=c641151b28f60389898f58aba529d9ec306c2ccb04ad699216c44ee7c172cc75', 'content': 'Prepárate con el pronóstico para los próximos 10 días más preciso para Monterrey, Nuevo León. Consulta la temperatura máxima y mínima y la probabilidad de lluvia en The Weather Channel y ...'}]\n"
     ]
    }
   ],
   "source": [
    "from langchain_community.tools.tavily_search import TavilySearchResults\n",
    "\n",
    "\n",
    "buscador = TavilySearchResults(max_results=2)\n",
    "\n",
    "resultados_busqueda = buscador.invoke(\"¿Cómo está el clima en Monterrey, México?\",)\n",
    "print(resultados_busqueda)"
   ]
  },
  {
   "cell_type": "markdown",
   "metadata": {},
   "source": [
    "## Carga del modelo"
   ]
  },
  {
   "cell_type": "code",
   "execution_count": 3,
   "metadata": {},
   "outputs": [
    {
     "data": {
      "text/plain": [
       "'¡Hola! ¿Cómo estás? ¿En qué puedo ayudarte hoy?'"
      ]
     },
     "execution_count": 3,
     "metadata": {},
     "output_type": "execute_result"
    }
   ],
   "source": [
    "from langchain_anthropic import ChatAnthropic\n",
    "from langchain_core.messages import HumanMessage\n",
    "\n",
    "\n",
    "modelo = ChatAnthropic(model=\"claude-3-5-sonnet-20240620\")\n",
    "\n",
    "response = modelo.invoke([HumanMessage(content=\"¡Hola!\")])\n",
    "response.content"
   ]
  },
  {
   "cell_type": "markdown",
   "metadata": {},
   "source": [
    "## Agregar herramientas al modelo"
   ]
  },
  {
   "cell_type": "code",
   "execution_count": 4,
   "metadata": {},
   "outputs": [],
   "source": [
    "herramientas = [\n",
    "    buscador,\n",
    "    # otras herramientas\n",
    "]\n",
    "\n",
    "modelo_con_herramientas = modelo.bind_tools(herramientas)"
   ]
  },
  {
   "cell_type": "code",
   "execution_count": 5,
   "metadata": {},
   "outputs": [
    {
     "name": "stdout",
     "output_type": "stream",
     "text": [
      "ContentString: ¡Hola! Bienvenido. ¿Cómo puedo ayudarte hoy? Estoy aquí para responder tus preguntas o asistirte en lo que necesites. ¿Hay algún tema en particular sobre el que quieras hablar o alguna información que estés buscando?\n",
      "ToolCalls: []\n"
     ]
    }
   ],
   "source": [
    "# Esta llamada NO requiere herramientas.\n",
    "response = modelo_con_herramientas.invoke([HumanMessage(content=\"¡Hola!\")])\n",
    "print(f\"ContentString: {response.content}\")\n",
    "print(f\"ToolCalls: {response.tool_calls}\")"
   ]
  },
  {
   "cell_type": "code",
   "execution_count": 6,
   "metadata": {},
   "outputs": [
    {
     "name": "stdout",
     "output_type": "stream",
     "text": [
      "ContentString: [{'text': 'Para obtener información actualizada sobre el clima en Monterrey, México, necesitaré usar la herramienta de búsqueda disponible. Permítame hacer una consulta para obtener esa información para usted.', 'type': 'text'}, {'id': 'toolu_01LXXtpEtS8myRd3obohd8yX', 'input': {'query': 'clima actual en Monterrey, México'}, 'name': 'tavily_search_results_json', 'type': 'tool_use'}]\n",
      "ToolCalls: [{'name': 'tavily_search_results_json', 'args': {'query': 'clima actual en Monterrey, México'}, 'id': 'toolu_01LXXtpEtS8myRd3obohd8yX', 'type': 'tool_call'}]\n"
     ]
    }
   ],
   "source": [
    "# Esta llamada SI requiere herramientas.\n",
    "response = modelo_con_herramientas.invoke([HumanMessage(content=\"¿Cómo está el clima en Monterrey, México?\")])\n",
    "print(f\"ContentString: {response.content}\")\n",
    "print(f\"ToolCalls: {response.tool_calls}\")"
   ]
  },
  {
   "cell_type": "markdown",
   "metadata": {},
   "source": [
    "# Creación del agente"
   ]
  },
  {
   "cell_type": "code",
   "execution_count": 7,
   "metadata": {},
   "outputs": [],
   "source": [
    "from langgraph.prebuilt import create_react_agent\n",
    "\n",
    "\n",
    "agente = create_react_agent(modelo, herramientas)"
   ]
  },
  {
   "cell_type": "code",
   "execution_count": 8,
   "metadata": {},
   "outputs": [
    {
     "data": {
      "text/plain": [
       "[HumanMessage(content='¡Hola!', additional_kwargs={}, response_metadata={}, id='9d5cfac6-1547-4767-a24d-737fa909cf3f'),\n",
       " AIMessage(content='¡Hola! Bienvenido. ¿Cómo puedo ayudarte hoy? Estoy aquí para asistirte con cualquier pregunta o información que necesites. ¿Hay algo en particular sobre lo que te gustaría saber o conversar?', additional_kwargs={}, response_metadata={'id': 'msg_01UmZwDvXe9rxBGQ1aQjzzWK', 'model': 'claude-3-5-sonnet-20240620', 'stop_reason': 'end_turn', 'stop_sequence': None, 'usage': {'input_tokens': 404, 'output_tokens': 73}}, id='run-de5232af-0a73-48a1-b3a4-36f79ba0e31b-0', usage_metadata={'input_tokens': 404, 'output_tokens': 73, 'total_tokens': 477})]"
      ]
     },
     "execution_count": 8,
     "metadata": {},
     "output_type": "execute_result"
    }
   ],
   "source": [
    "# Esta llamada NO requiere herramientas.\n",
    "response = agente.invoke({\"messages\": [HumanMessage(content=\"¡Hola!\")]})\n",
    "response[\"messages\"]"
   ]
  },
  {
   "cell_type": "code",
   "execution_count": 9,
   "metadata": {},
   "outputs": [
    {
     "data": {
      "text/plain": [
       "[HumanMessage(content='¿Cómo está el clima en Monterrey, México?', additional_kwargs={}, response_metadata={}, id='4e46a044-a4ee-47c1-8ac4-5eff175b023a'),\n",
       " AIMessage(content=[{'text': 'Para obtener información actualizada sobre el clima en Monterrey, México, necesitaré usar la herramienta de búsqueda disponible. Permítame buscar esa información para usted.', 'type': 'text'}, {'id': 'toolu_01CLeYTxZWndjt4BtxHrum6Q', 'input': {'query': 'clima actual en Monterrey, México'}, 'name': 'tavily_search_results_json', 'type': 'tool_use'}], additional_kwargs={}, response_metadata={'id': 'msg_01Hnc6fENxAnqPHNNNKtBqeH', 'model': 'claude-3-5-sonnet-20240620', 'stop_reason': 'tool_use', 'stop_sequence': None, 'usage': {'input_tokens': 414, 'output_tokens': 113}}, id='run-b619caa8-0dbe-4cee-9d70-c8b5fe466099-0', tool_calls=[{'name': 'tavily_search_results_json', 'args': {'query': 'clima actual en Monterrey, México'}, 'id': 'toolu_01CLeYTxZWndjt4BtxHrum6Q', 'type': 'tool_call'}], usage_metadata={'input_tokens': 414, 'output_tokens': 113, 'total_tokens': 527}),\n",
       " ToolMessage(content='[{\"url\": \"https://www.meteored.mx/clima_Monterrey-America+Norte-Mexico-Nuevo+Leon-MMMY-1-21045.html\", \"content\": \"Clima en Monterrey con el estado del tiempo a 14 días. Los datos sobre el Tiempo, temperatura, velocidad del viento, la humedad, la cota de nieve, presión, etc . ... Se esperan lluvias y tormentas eléctricas en varios estados de México. Hace 7 horas El tiempo en Mexicali, Tijuana y Baja California, 14 de septiembre: rachas de hasta 50 km/h ...\"}, {\"url\": \"https://www.accuweather.com/en/mx/monterrey/244681/current-weather/244681\", \"content\": \"Current weather in Monterrey, Nuevo León, Mexico. Check current conditions in Monterrey, Nuevo León, Mexico with radar, hourly, and more.\"}]', name='tavily_search_results_json', id='5e3d5c45-5077-4e30-b126-55aecefa4e37', tool_call_id='toolu_01CLeYTxZWndjt4BtxHrum6Q', artifact={'query': 'clima actual en Monterrey, México', 'follow_up_questions': None, 'answer': None, 'images': [], 'results': [{'title': 'Clima en Monterrey. El tiempo a 14 días - Meteored', 'url': 'https://www.meteored.mx/clima_Monterrey-America+Norte-Mexico-Nuevo+Leon-MMMY-1-21045.html', 'content': 'Clima en Monterrey con el estado del tiempo a 14 días. Los datos sobre el Tiempo, temperatura, velocidad del viento, la humedad, la cota de nieve, presión, etc . ... Se esperan lluvias y tormentas eléctricas en varios estados de México. Hace 7 horas El tiempo en Mexicali, Tijuana y Baja California, 14 de septiembre: rachas de hasta 50 km/h ...', 'score': 0.94509614, 'raw_content': None}, {'title': 'Monterrey, Nuevo León, Mexico Current Weather | AccuWeather', 'url': 'https://www.accuweather.com/en/mx/monterrey/244681/current-weather/244681', 'content': 'Current weather in Monterrey, Nuevo León, Mexico. Check current conditions in Monterrey, Nuevo León, Mexico with radar, hourly, and more.', 'score': 0.7668179, 'raw_content': None}], 'response_time': 1.96}),\n",
       " AIMessage(content='Basándome en la información obtenida, puedo proporcionarle una descripción general del clima actual en Monterrey, México:\\n\\n1. Condiciones actuales: Lamentablemente, la búsqueda no proporciona datos específicos sobre la temperatura o las condiciones exactas en este momento. Sin embargo, puedo ofrecerle información general sobre el clima en la región.\\n\\n2. Pronóstico a corto plazo: Se espera que haya lluvias y tormentas eléctricas en varios estados de México, lo que podría incluir a Monterrey.\\n\\n3. Variabilidad climática: Monterrey suele tener un clima que puede cambiar rápidamente, por lo que es importante estar atento a las actualizaciones meteorológicas.\\n\\n4. Recursos para más información: Para obtener datos más precisos y actualizados, le recomiendo visitar sitios web especializados en meteorología como AccuWeather (https://www.accuweather.com/en/mx/monterrey/244681/current-weather/244681) o Meteored (https://www.meteored.mx/clima_Monterrey-America+Norte-Mexico-Nuevo+Leon-MMMY-1-21045.html). Estos sitios ofrecen información detallada sobre la temperatura actual, humedad, velocidad del viento y pronósticos a corto y largo plazo.\\n\\n5. Precauciones: Dado que se mencionan posibles lluvias y tormentas eléctricas, es aconsejable estar preparado y tomar las precauciones necesarias si planea salir.\\n\\nPara obtener información más precisa y en tiempo real sobre el clima actual en Monterrey, le sugiero consultar directamente estos sitios web meteorológicos o aplicaciones de clima confiables, ya que las condiciones pueden cambiar rápidamente.', additional_kwargs={}, response_metadata={'id': 'msg_01VreSXcLKa1b41esQGAaN7i', 'model': 'claude-3-5-sonnet-20240620', 'stop_reason': 'end_turn', 'stop_sequence': None, 'usage': {'input_tokens': 768, 'output_tokens': 443}}, id='run-56946317-ec97-451f-8ef0-801b265e2f59-0', usage_metadata={'input_tokens': 768, 'output_tokens': 443, 'total_tokens': 1211})]"
      ]
     },
     "execution_count": 9,
     "metadata": {},
     "output_type": "execute_result"
    }
   ],
   "source": [
    "# Esta llamada SI requiere herramientas.\n",
    "response = agente.invoke({\"messages\": [HumanMessage(content=\"¿Cómo está el clima en Monterrey, México?\")]})\n",
    "response[\"messages\"]"
   ]
  },
  {
   "cell_type": "code",
   "execution_count": 10,
   "metadata": {},
   "outputs": [
    {
     "name": "stdout",
     "output_type": "stream",
     "text": [
      "{'agent': {'messages': [AIMessage(content=[{'text': 'Para responder a su pregunta sobre el clima en Monterrey, México, necesitaré buscar información actualizada. Permítame utilizar una herramienta de búsqueda para obtener los datos más recientes.', 'type': 'text'}, {'id': 'toolu_017KVEYbgFt8ySsNGj9eViwJ', 'input': {'query': 'clima actual en Monterrey, México'}, 'name': 'tavily_search_results_json', 'type': 'tool_use'}], additional_kwargs={}, response_metadata={'id': 'msg_01DE61o7gL3D2DJ4wPUQ689N', 'model': 'claude-3-5-sonnet-20240620', 'stop_reason': 'tool_use', 'stop_sequence': None, 'usage': {'input_tokens': 414, 'output_tokens': 117}}, id='run-afdbe624-fd5e-470a-bdb1-ebcdde63ba07-0', tool_calls=[{'name': 'tavily_search_results_json', 'args': {'query': 'clima actual en Monterrey, México'}, 'id': 'toolu_017KVEYbgFt8ySsNGj9eViwJ', 'type': 'tool_call'}], usage_metadata={'input_tokens': 414, 'output_tokens': 117, 'total_tokens': 531})]}}\n",
      "----\n",
      "{'tools': {'messages': [ToolMessage(content='[{\"url\": \"https://www.meteored.mx/clima_Monterrey-America+Norte-Mexico-Nuevo+Leon-MMMY-1-21045.html\", \"content\": \"Jardines de la Silla (Jardines) 30° 20°. Lampazos De Naranjo 32° 19°. Clima en Monterrey con el estado del tiempo a 14 días. Los datos sobre el Tiempo, temperatura, velocidad del viento, la humedad, la cota de nieve, presión, etc . Monterrey Pronóstico a 14 días.\"}, {\"url\": \"https://www.accuweather.com/en/mx/monterrey/244681/current-weather/244681\", \"content\": \"Current weather in Monterrey, Nuevo León, Mexico. Check current conditions in Monterrey, Nuevo León, Mexico with radar, hourly, and more.\"}]', name='tavily_search_results_json', tool_call_id='toolu_017KVEYbgFt8ySsNGj9eViwJ', artifact={'query': 'clima actual en Monterrey, México', 'follow_up_questions': None, 'answer': None, 'images': [], 'results': [{'title': 'Clima en Monterrey. El tiempo a 14 días - Meteored', 'url': 'https://www.meteored.mx/clima_Monterrey-America+Norte-Mexico-Nuevo+Leon-MMMY-1-21045.html', 'content': 'Jardines de la Silla (Jardines) 30° 20°. Lampazos De Naranjo 32° 19°. Clima en Monterrey con el estado del tiempo a 14 días. Los datos sobre el Tiempo, temperatura, velocidad del viento, la humedad, la cota de nieve, presión, etc . Monterrey Pronóstico a 14 días.', 'score': 0.9856077, 'raw_content': None}, {'title': 'Monterrey, Nuevo León, Mexico Current Weather | AccuWeather', 'url': 'https://www.accuweather.com/en/mx/monterrey/244681/current-weather/244681', 'content': 'Current weather in Monterrey, Nuevo León, Mexico. Check current conditions in Monterrey, Nuevo León, Mexico with radar, hourly, and more.', 'score': 0.7666432, 'raw_content': None}], 'response_time': 1.87})]}}\n",
      "----\n",
      "{'agent': {'messages': [AIMessage(content='Gracias por esperar. Basándome en la información más reciente que he encontrado, puedo proporcionarle una descripción general del clima en Monterrey, México:\\n\\n1. Temperatura: Actualmente, Monterrey está experimentando temperaturas cálidas. Las temperaturas máximas rondan los 30°C (86°F), mientras que las mínimas se sitúan alrededor de los 20°C (68°F).\\n\\n2. Variación diaria: Hay una diferencia notable entre las temperaturas diurnas y nocturnas, con días cálidos y noches más frescas.\\n\\n3. Pronóstico a corto plazo: El clima parece mantenerse estable en los próximos días, con condiciones similares previstas.\\n\\n4. Información adicional: Para obtener datos más precisos como la humedad, velocidad del viento, o probabilidad de lluvia, sería necesario consultar un pronóstico detallado y actualizado al momento.\\n\\nEs importante tener en cuenta que el clima puede cambiar rápidamente, por lo que le recomiendo verificar un pronóstico local actualizado si planea actividades al aire libre o viajes a Monterrey. Sitios web de meteorología locales o aplicaciones de clima pueden proporcionar información más detallada y en tiempo real.\\n\\n¿Hay algo más específico sobre el clima en Monterrey que le gustaría saber?', additional_kwargs={}, response_metadata={'id': 'msg_019cqRyyo1nnnW7MYS9sbyro', 'model': 'claude-3-5-sonnet-20240620', 'stop_reason': 'end_turn', 'stop_sequence': None, 'usage': {'input_tokens': 759, 'output_tokens': 339}}, id='run-b34cfdbb-9485-4281-ac40-29e7b39615e7-0', usage_metadata={'input_tokens': 759, 'output_tokens': 339, 'total_tokens': 1098})]}}\n",
      "----\n"
     ]
    }
   ],
   "source": [
    "# Proceso paso a paso\n",
    "for chunk in agente.stream(\n",
    "    {\"messages\": [HumanMessage(content=\"¿Cómo está el clima en Monterrey, México?\")]}\n",
    "):\n",
    "    print(chunk)\n",
    "    print(\"----\")"
   ]
  }
 ],
 "metadata": {
  "kernelspec": {
   "display_name": ".venv",
   "language": "python",
   "name": "python3"
  },
  "language_info": {
   "codemirror_mode": {
    "name": "ipython",
    "version": 3
   },
   "file_extension": ".py",
   "mimetype": "text/x-python",
   "name": "python",
   "nbconvert_exporter": "python",
   "pygments_lexer": "ipython3",
   "version": "3.12.4"
  }
 },
 "nbformat": 4,
 "nbformat_minor": 2
}
