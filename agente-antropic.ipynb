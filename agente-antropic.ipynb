{
 "cells": [
  {
   "cell_type": "markdown",
   "metadata": {},
   "source": [
    "# Agente utilizando LangChain y Antropic\n",
    "\n",
    "Software recomendado:\n",
    "- Python 3.12.4\n",
    "- [VsCode](https://code.visualstudio.com/)\n",
    "- [Markdown Preview Github Styling](https://marketplace.visualstudio.com/items?itemName=bierner.markdown-preview-github-styles)\n",
    "\n",
    "\n",
    "<br />\n",
    "\n",
    "Requisitos:  \n",
    "- Este notebook utiliza el API de [Antropic] por lo que es necesario contar con un llave (API-KEY) para utilizar sus servicios.  \n",
    "- Para configuras tu llave de acceso edita el archivo `.env` de este proyecto.  \n",
    "\n",
    "<br />\n",
    "\n",
    "> <span style=\"color: red;\">Nota Importante:</span>  \n",
    "> El archivo `.env` contiene inforemación sensible. Asegurate de que siempre esté listado dentro del archivo `.gitignore` para evitar publicarlo accidentalmente.  \n",
    "\n",
    "<br />\n",
    "\n",
    "## Carga variables de ambiente desde el archivo .env"
   ]
  },
  {
   "cell_type": "code",
   "execution_count": null,
   "metadata": {},
   "outputs": [],
   "source": [
    "from dotenv import load_dotenv\n",
    "import os\n",
    "\n",
    "\n",
    "load_dotenv() \n",
    "assert os.environ['LANGCHAIN_API_KEY'] != 'API_KEY', 'Configura el valor de LANGCHAIN_API_KEY en el archivo .env remplazando \"API_KEY\" por tu API_KEY de Antropic'"
   ]
  },
  {
   "cell_type": "code",
   "execution_count": null,
   "metadata": {},
   "outputs": [],
   "source": []
  },
  {
   "cell_type": "code",
   "execution_count": null,
   "metadata": {},
   "outputs": [],
   "source": []
  }
 ],
 "metadata": {
  "kernelspec": {
   "display_name": ".venv",
   "language": "python",
   "name": "python3"
  },
  "language_info": {
   "codemirror_mode": {
    "name": "ipython",
    "version": 3
   },
   "file_extension": ".py",
   "mimetype": "text/x-python",
   "name": "python",
   "nbconvert_exporter": "python",
   "pygments_lexer": "ipython3",
   "version": "3.12.4"
  }
 },
 "nbformat": 4,
 "nbformat_minor": 2
}
